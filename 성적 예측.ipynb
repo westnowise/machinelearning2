{
 "cells": [
  {
   "cell_type": "code",
   "execution_count": 1,
   "id": "8c05f62c",
   "metadata": {},
   "outputs": [],
   "source": [
    "import pandas as pd\n",
    "\n",
    "mat = pd.read_csv(\"train-student-mat.csv\")\n",
    "\n",
    "por = pd.read_csv(\"train-student-por.csv\")"
   ]
  },
  {
   "cell_type": "code",
   "execution_count": 4,
   "id": "4a10a99e",
   "metadata": {},
   "outputs": [],
   "source": [
    "#과목별 평균을 기준으로 새로운 G1_X 열 만들기\n",
    "por['G1_X'] = por['G1'] - por['G1'].mean()\n",
    "mat['G1_X'] = mat['G1'] - mat['G1'].mean()\n",
    "\n",
    "\n",
    "#열 이름 변경\n",
    "#por.rename(columns={'G1': 'G1_por'}, inplace=True)\n",
    "#mat.rename(columns={'G1': 'G1_mat'}, inplace=True)\n",
    "\n",
    "#데이터 합치기\n",
    "df = pd.concat([por, mat])"
   ]
  },
  {
   "cell_type": "code",
   "execution_count": 5,
   "id": "af63a3bd",
   "metadata": {},
   "outputs": [
    {
     "data": {
      "text/plain": [
       "array(['U', 'R'], dtype=object)"
      ]
     },
     "execution_count": 5,
     "metadata": {},
     "output_type": "execute_result"
    }
   ],
   "source": [
    "df['address'].unique()"
   ]
  },
  {
   "cell_type": "code",
   "execution_count": 6,
   "id": "7f0a6881",
   "metadata": {},
   "outputs": [],
   "source": [
    "df1 = df[df['address']=='R']"
   ]
  },
  {
   "cell_type": "code",
   "execution_count": 8,
   "id": "e610bdcf",
   "metadata": {},
   "outputs": [],
   "source": [
    "g1X = df1[['age', 'Medu', 'Fedu',\n",
    "       'Mjob', 'Fjob', 'studytime',\n",
    "       'failures', 'freetime', 'goout',\n",
    "       'Walc', 'health', 'absences']]\n",
    "\n",
    "g1y = df1['G1']"
   ]
  },
  {
   "cell_type": "code",
   "execution_count": 11,
   "id": "349d1895",
   "metadata": {},
   "outputs": [
    {
     "name": "stderr",
     "output_type": "stream",
     "text": [
      "C:\\Users\\user\\AppData\\Local\\Temp\\ipykernel_7872\\3706108745.py:9: SettingWithCopyWarning: \n",
      "A value is trying to be set on a copy of a slice from a DataFrame.\n",
      "Try using .loc[row_indexer,col_indexer] = value instead\n",
      "\n",
      "See the caveats in the documentation: https://pandas.pydata.org/pandas-docs/stable/user_guide/indexing.html#returning-a-view-versus-a-copy\n",
      "  g1X[col] = label_encoder.fit_transform(g1X[col])\n",
      "C:\\Users\\user\\AppData\\Local\\Temp\\ipykernel_7872\\3706108745.py:9: SettingWithCopyWarning: \n",
      "A value is trying to be set on a copy of a slice from a DataFrame.\n",
      "Try using .loc[row_indexer,col_indexer] = value instead\n",
      "\n",
      "See the caveats in the documentation: https://pandas.pydata.org/pandas-docs/stable/user_guide/indexing.html#returning-a-view-versus-a-copy\n",
      "  g1X[col] = label_encoder.fit_transform(g1X[col])\n"
     ]
    }
   ],
   "source": [
    "from sklearn.preprocessing import LabelEncoder\n",
    "\n",
    "# LabelEncoder 객체 생성\n",
    "label_encoder = LabelEncoder()\n",
    "\n",
    "# 각 열에 대해 라벨 인코딩을 수행합니다.\n",
    "for col in g1X.columns:\n",
    "    if g1X[col].dtype == 'object':  # 문자열 형식인 열만 처리합니다.\n",
    "        g1X[col] = label_encoder.fit_transform(g1X[col])"
   ]
  },
  {
   "cell_type": "code",
   "execution_count": 10,
   "id": "384be743",
   "metadata": {},
   "outputs": [
    {
     "name": "stdout",
     "output_type": "stream",
     "text": [
      "age [15 16 17 18 20 19 21]\n",
      "Medu [2 4 3 1 0]\n",
      "Fedu [4 3 2 1 0]\n",
      "Mjob ['services' 'teacher' 'other' 'at_home' 'health']\n",
      "Fjob ['health' 'at_home' 'teacher' 'other' 'services']\n",
      "studytime [3 2 1 4]\n",
      "failures [0 1 3 2]\n",
      "freetime [3 5 4 1 2]\n",
      "goout [2 3 1 4 5]\n",
      "Walc [1 3 4 5 2]\n",
      "health [5 2 4 3 1]\n",
      "absences [ 2  0  4  8  6 14 16 21 12 15 13  5  7  3  1  9 11 10 20 18 75 40 17]\n"
     ]
    }
   ],
   "source": [
    "columns = g1X.columns\n",
    "\n",
    "for col in columns:\n",
    "    print(col, g1X[col].unique())"
   ]
  },
  {
   "cell_type": "code",
   "execution_count": 12,
   "id": "9ccdc30e",
   "metadata": {},
   "outputs": [],
   "source": [
    "# 데이터 분할하기\n",
    "# Train, Test 데이터 분리\n",
    "from sklearn.model_selection import train_test_split\n",
    "\n",
    "g1X_train, g1X_test, g1y_train, g1y_test = train_test_split(g1X, g1y, test_size=0.2, random_state=42)\n"
   ]
  },
  {
   "cell_type": "code",
   "execution_count": 13,
   "id": "c2ae2773",
   "metadata": {},
   "outputs": [
    {
     "name": "stdout",
     "output_type": "stream",
     "text": [
      "LinearRegression 평균제곱오차 MSE: 7.025630860381643\n"
     ]
    }
   ],
   "source": [
    "from sklearn.model_selection import train_test_split\n",
    "from sklearn.linear_model import LinearRegression\n",
    "from sklearn.metrics import mean_squared_error\n",
    "\n",
    "# 선형 회귀 모델을 초기화하고 훈련합니다.\n",
    "model = LinearRegression()\n",
    "model.fit(g1X_train, g1y_train)\n",
    "\n",
    "# 테스트 세트를 사용하여 예측을 수행합니다.\n",
    "y_pred = model.predict(g1X_test)\n",
    "\n",
    "\n",
    "# 예측 결과를 평가\n",
    "mse = mean_squared_error(g1y_test, y_pred)\n",
    "print(\"LinearRegression 평균제곱오차 MSE:\", mse)\n"
   ]
  },
  {
   "cell_type": "code",
   "execution_count": 14,
   "id": "8c24bce3",
   "metadata": {},
   "outputs": [
    {
     "name": "stdout",
     "output_type": "stream",
     "text": [
      "Random Forest 모델의 평균 제곱 오차(MSE): 5.7863195779727095\n"
     ]
    }
   ],
   "source": [
    "from sklearn.ensemble import RandomForestRegressor\n",
    "from sklearn.metrics import mean_squared_error\n",
    "from sklearn.metrics import accuracy_score\n",
    "\n",
    "\n",
    "# Random Forest 회귀 모델 생성\n",
    "model_rf = RandomForestRegressor(n_estimators=100, random_state=42)\n",
    "\n",
    "# 모델 훈련\n",
    "model_rf.fit(g1X_train, g1y_train)\n",
    "\n",
    "# 테스트 데이터로 예측\n",
    "y_pred_rf = model_rf.predict(g1X_test)\n",
    "\n",
    "# 평가: 평균 제곱 오차(MSE)\n",
    "mse_rf = mean_squared_error(g1y_test, y_pred_rf)\n",
    "print(\"Random Forest 모델의 평균 제곱 오차(MSE):\", mse_rf)\n",
    "\n",
    "\n"
   ]
  },
  {
   "cell_type": "code",
   "execution_count": 15,
   "id": "2d219dea",
   "metadata": {},
   "outputs": [
    {
     "name": "stdout",
     "output_type": "stream",
     "text": [
      "LightGBM 모델의 평균 제곱 오차(MSE): 6.989838236336496\n"
     ]
    }
   ],
   "source": [
    "from lightgbm import LGBMRegressor\n",
    "\n",
    "# 모델 재훈련\n",
    "lg_model = LGBMRegressor(random_state=0, verbose=-1)\n",
    "lg_model.fit(g1X_train, g1y_train)\n",
    "\n",
    "# 재예측\n",
    "lg_y_pred = lg_model.predict(g1X_test)\n",
    "\n",
    "# 평가: 평균 제곱 오차(MSE)\n",
    "mse_lg = mean_squared_error(g1y_test, lg_y_pred)\n",
    "\n",
    "print(\"LightGBM 모델의 평균 제곱 오차(MSE):\", mse_lg)"
   ]
  },
  {
   "cell_type": "code",
   "execution_count": 16,
   "id": "5acb2216",
   "metadata": {},
   "outputs": [
    {
     "name": "stdout",
     "output_type": "stream",
     "text": [
      "[LightGBM] [Warning] Unknown parameter: verdose\n",
      "[LightGBM] [Warning] Unknown parameter: verdose\n",
      "[LightGBM] [Info] Auto-choosing col-wise multi-threading, the overhead of testing was 0.000061 seconds.\n",
      "You can set `force_col_wise=true` to remove the overhead.\n",
      "[LightGBM] [Info] Total Bins 68\n",
      "[LightGBM] [Info] Number of data points in the train set: 228, number of used features: 12\n",
      "[LightGBM] [Info] Start training from score 10.653509\n",
      "[LightGBM] [Warning] No further splits with positive gain, best gain: -inf\n",
      "[LightGBM] [Warning] No further splits with positive gain, best gain: -inf\n",
      "[LightGBM] [Warning] No further splits with positive gain, best gain: -inf\n",
      "[LightGBM] [Warning] No further splits with positive gain, best gain: -inf\n",
      "[LightGBM] [Warning] No further splits with positive gain, best gain: -inf\n",
      "[LightGBM] [Warning] No further splits with positive gain, best gain: -inf\n",
      "[LightGBM] [Warning] No further splits with positive gain, best gain: -inf\n",
      "[LightGBM] [Warning] No further splits with positive gain, best gain: -inf\n",
      "[LightGBM] [Warning] No further splits with positive gain, best gain: -inf\n",
      "[LightGBM] [Warning] No further splits with positive gain, best gain: -inf\n",
      "[LightGBM] [Warning] No further splits with positive gain, best gain: -inf\n",
      "[LightGBM] [Warning] No further splits with positive gain, best gain: -inf\n",
      "[LightGBM] [Warning] No further splits with positive gain, best gain: -inf\n",
      "[LightGBM] [Warning] No further splits with positive gain, best gain: -inf\n",
      "[LightGBM] [Warning] No further splits with positive gain, best gain: -inf\n",
      "[LightGBM] [Warning] No further splits with positive gain, best gain: -inf\n",
      "[LightGBM] [Warning] No further splits with positive gain, best gain: -inf\n",
      "[LightGBM] [Warning] No further splits with positive gain, best gain: -inf\n",
      "[LightGBM] [Warning] No further splits with positive gain, best gain: -inf\n",
      "[LightGBM] [Warning] No further splits with positive gain, best gain: -inf\n",
      "[LightGBM] [Warning] No further splits with positive gain, best gain: -inf\n",
      "[LightGBM] [Warning] No further splits with positive gain, best gain: -inf\n",
      "[LightGBM] [Warning] No further splits with positive gain, best gain: -inf\n",
      "[LightGBM] [Warning] No further splits with positive gain, best gain: -inf\n",
      "[LightGBM] [Warning] No further splits with positive gain, best gain: -inf\n",
      "[LightGBM] [Warning] No further splits with positive gain, best gain: -inf\n",
      "[LightGBM] [Warning] No further splits with positive gain, best gain: -inf\n",
      "[LightGBM] [Warning] No further splits with positive gain, best gain: -inf\n",
      "[LightGBM] [Warning] No further splits with positive gain, best gain: -inf\n",
      "[LightGBM] [Warning] No further splits with positive gain, best gain: -inf\n",
      "[LightGBM] [Warning] No further splits with positive gain, best gain: -inf\n",
      "[LightGBM] [Warning] No further splits with positive gain, best gain: -inf\n",
      "[LightGBM] [Warning] No further splits with positive gain, best gain: -inf\n",
      "[LightGBM] [Warning] No further splits with positive gain, best gain: -inf\n",
      "[LightGBM] [Warning] No further splits with positive gain, best gain: -inf\n",
      "[LightGBM] [Warning] No further splits with positive gain, best gain: -inf\n",
      "[LightGBM] [Warning] No further splits with positive gain, best gain: -inf\n",
      "[LightGBM] [Warning] No further splits with positive gain, best gain: -inf\n",
      "[LightGBM] [Warning] No further splits with positive gain, best gain: -inf\n",
      "[LightGBM] [Warning] No further splits with positive gain, best gain: -inf\n",
      "[LightGBM] [Warning] No further splits with positive gain, best gain: -inf\n",
      "[LightGBM] [Warning] No further splits with positive gain, best gain: -inf\n",
      "[LightGBM] [Warning] No further splits with positive gain, best gain: -inf\n",
      "[LightGBM] [Warning] No further splits with positive gain, best gain: -inf\n",
      "[LightGBM] [Warning] No further splits with positive gain, best gain: -inf\n",
      "[LightGBM] [Warning] No further splits with positive gain, best gain: -inf\n",
      "[LightGBM] [Warning] No further splits with positive gain, best gain: -inf\n",
      "[LightGBM] [Warning] No further splits with positive gain, best gain: -inf\n",
      "[LightGBM] [Warning] No further splits with positive gain, best gain: -inf\n",
      "[LightGBM] [Warning] No further splits with positive gain, best gain: -inf\n",
      "[LightGBM] [Warning] No further splits with positive gain, best gain: -inf\n",
      "[LightGBM] [Warning] No further splits with positive gain, best gain: -inf\n",
      "[LightGBM] [Warning] No further splits with positive gain, best gain: -inf\n",
      "[LightGBM] [Warning] No further splits with positive gain, best gain: -inf\n",
      "[LightGBM] [Warning] No further splits with positive gain, best gain: -inf\n",
      "[LightGBM] [Warning] No further splits with positive gain, best gain: -inf\n",
      "[LightGBM] [Warning] No further splits with positive gain, best gain: -inf\n",
      "[LightGBM] [Warning] No further splits with positive gain, best gain: -inf\n",
      "[LightGBM] [Warning] No further splits with positive gain, best gain: -inf\n",
      "[LightGBM] [Warning] No further splits with positive gain, best gain: -inf\n",
      "[LightGBM] [Warning] No further splits with positive gain, best gain: -inf\n",
      "[LightGBM] [Warning] No further splits with positive gain, best gain: -inf\n",
      "[LightGBM] [Warning] No further splits with positive gain, best gain: -inf\n",
      "[LightGBM] [Warning] No further splits with positive gain, best gain: -inf\n",
      "[LightGBM] [Warning] No further splits with positive gain, best gain: -inf\n",
      "[LightGBM] [Warning] No further splits with positive gain, best gain: -inf\n",
      "[LightGBM] [Warning] No further splits with positive gain, best gain: -inf\n",
      "[LightGBM] [Warning] No further splits with positive gain, best gain: -inf\n",
      "[LightGBM] [Warning] No further splits with positive gain, best gain: -inf\n",
      "[LightGBM] [Warning] No further splits with positive gain, best gain: -inf\n",
      "[LightGBM] [Warning] No further splits with positive gain, best gain: -inf\n",
      "[LightGBM] [Warning] No further splits with positive gain, best gain: -inf\n",
      "[LightGBM] [Warning] No further splits with positive gain, best gain: -inf\n",
      "[LightGBM] [Warning] No further splits with positive gain, best gain: -inf\n",
      "[LightGBM] [Warning] No further splits with positive gain, best gain: -inf\n",
      "[LightGBM] [Warning] No further splits with positive gain, best gain: -inf\n",
      "[LightGBM] [Warning] No further splits with positive gain, best gain: -inf\n",
      "[LightGBM] [Warning] No further splits with positive gain, best gain: -inf\n",
      "[LightGBM] [Warning] No further splits with positive gain, best gain: -inf\n",
      "[LightGBM] [Warning] No further splits with positive gain, best gain: -inf\n",
      "[LightGBM] [Warning] No further splits with positive gain, best gain: -inf\n",
      "[LightGBM] [Warning] No further splits with positive gain, best gain: -inf\n",
      "[LightGBM] [Warning] No further splits with positive gain, best gain: -inf\n",
      "[LightGBM] [Warning] No further splits with positive gain, best gain: -inf\n",
      "[LightGBM] [Warning] No further splits with positive gain, best gain: -inf\n",
      "[LightGBM] [Warning] No further splits with positive gain, best gain: -inf\n",
      "[LightGBM] [Warning] No further splits with positive gain, best gain: -inf\n",
      "[LightGBM] [Warning] No further splits with positive gain, best gain: -inf\n",
      "[LightGBM] [Warning] No further splits with positive gain, best gain: -inf\n",
      "[LightGBM] [Warning] No further splits with positive gain, best gain: -inf\n",
      "[LightGBM] [Warning] No further splits with positive gain, best gain: -inf\n",
      "[LightGBM] [Warning] No further splits with positive gain, best gain: -inf\n",
      "[LightGBM] [Warning] No further splits with positive gain, best gain: -inf\n",
      "[LightGBM] [Warning] No further splits with positive gain, best gain: -inf\n",
      "[LightGBM] [Warning] No further splits with positive gain, best gain: -inf\n",
      "[LightGBM] [Warning] No further splits with positive gain, best gain: -inf\n",
      "[LightGBM] [Warning] No further splits with positive gain, best gain: -inf\n",
      "[LightGBM] [Warning] No further splits with positive gain, best gain: -inf\n",
      "[LightGBM] [Warning] No further splits with positive gain, best gain: -inf\n",
      "[LightGBM] [Warning] No further splits with positive gain, best gain: -inf\n",
      "[LightGBM] [Warning] Unknown parameter: verdose\n"
     ]
    }
   ],
   "source": [
    "from sklearn.preprocessing import StandardScaler, MinMaxScaler\n",
    "from lightgbm import LGBMRegressor\n",
    "from sklearn.metrics import mean_squared_error\n",
    "from imblearn.over_sampling import SMOTE\n",
    "\n",
    "\n",
    "# 정규화\n",
    "scaler = StandardScaler()\n",
    "\n",
    "mm_X_train = scaler.fit_transform(g1X_train)\n",
    "mm_X_test = scaler.transform(g1X_test)\n",
    "\n",
    "# 모델 재훈련\n",
    "#lgbm\n",
    "mm_model = LGBMRegressor(random_state=0, verbose=-1)\n",
    "mm_model.fit(mm_X_train, g1y_train)\n",
    "# 랜덤포레스트\n",
    "model_rf.fit(mm_X_train, g1y_train)\n",
    "\n",
    "#재예측\n",
    "mm_y_pred = mm_model.predict(mm_X_test)\n",
    "mrf_y_pred = model_rf.predict(mm_X_test)\n",
    "\n",
    "#평가: 평균 제곱 오차(MSE)\n",
    "mse_mm = mean_squared_error(g1y_test, mm_y_pred)\n",
    "mse_mrf = mean_squared_error(g1y_test, mrf_y_pred)\n",
    "\n",
    "\n",
    "#MinMaxScaler\n",
    "n_scaler = MinMaxScaler()\n",
    "\n",
    "nn_X_train = n_scaler.fit_transform(g1X_train)\n",
    "nn_X_test = n_scaler.transform(g1X_test)\n",
    "\n",
    "# 모델 재훈련\n",
    "nn_model = LGBMRegressor(random_state=0, verdose=-1)\n",
    "nn_model.fit(nn_X_train, g1y_train)\n",
    "\n",
    "# 랜덤포레스트\n",
    "model_rf.fit(nn_X_train, g1y_train)\n",
    "\n",
    "#재예측\n",
    "nn_y_pred = nn_model.predict(nn_X_test)\n",
    "nrf_y_pred = model_rf.predict(nn_X_test)\n",
    "\n",
    "\n",
    "# 평가: 평균 제곱 오차(MSE)\n",
    "mse_nn = mean_squared_error(g1y_test, nn_y_pred)\n",
    "mse_nrf = mean_squared_error(g1y_test, nrf_y_pred)\n"
   ]
  },
  {
   "cell_type": "code",
   "execution_count": 17,
   "id": "a77141eb",
   "metadata": {},
   "outputs": [
    {
     "name": "stdout",
     "output_type": "stream",
     "text": [
      "Standard 후 LightGBM 모델의 평균 제곱 오차(MSE): 6.989838236336496\n",
      "MinMax 후 LightGBM 모델의 평균 제곱 오차(MSE): 6.989838236336496\n",
      "Standard 후 랜덤포레스트 모델의 평균 제곱 오차(MSE): 5.854800007309943\n",
      "MinMax 후 랜덤포레스트 모델의 평균 제곱 오차(MSE): 5.79376741423002\n"
     ]
    }
   ],
   "source": [
    "print(\"Standard 후 LightGBM 모델의 평균 제곱 오차(MSE):\", mse_mm)\n",
    "print(\"MinMax 후 LightGBM 모델의 평균 제곱 오차(MSE):\", mse_nn)\n",
    "\n",
    "print(\"Standard 후 랜덤포레스트 모델의 평균 제곱 오차(MSE):\", mse_mrf)\n",
    "print(\"MinMax 후 랜덤포레스트 모델의 평균 제곱 오차(MSE):\", mse_nrf)"
   ]
  },
  {
   "cell_type": "raw",
   "id": "7d2511ac",
   "metadata": {},
   "source": [
    "from sklearn.model_selection import GridSearchCV\n",
    "\n",
    "# 하이퍼파라미터 그리드 설정\n",
    "param_grid = {\n",
    "    'n_estimators': [100, 200, 300],\n",
    "    'max_depth': [None, 10, 20],\n",
    "    'min_samples_split': [2, 5, 10]\n",
    "}\n",
    "\n",
    "# 그리드 서치를 사용하여 모델 최적화\n",
    "grid_search = GridSearchCV(model_rf, param_grid, cv=5, scoring='neg_mean_squared_error')\n",
    "grid_search.fit(mm_X_train, g1y_train)\n",
    "\n",
    "# 최적 모델 및 하이퍼파라미터 출력\n",
    "print(\"최적 모델:\", grid_search.best_estimator_)\n",
    "print(\"최적 하이퍼파라미터:\", grid_search.best_params_)"
   ]
  },
  {
   "cell_type": "raw",
   "id": "05318e77",
   "metadata": {},
   "source": [
    "from sklearn.model_selection import GridSearchCV\n",
    "from sklearn.ensemble import RandomForestRegressor\n",
    "\n",
    "# 첫 번째 그리드 서치를 사용하여 초기 하이퍼파라미터 탐색\n",
    "param_grid_initial = {\n",
    "    'n_estimators': [100, 200, 300],\n",
    "    'max_depth': [None, 10, 20],\n",
    "    'min_samples_split': [2, 5, 10]\n",
    "}\n",
    "grid_search_initial = GridSearchCV(RandomForestRegressor(), param_grid_initial, cv=5, scoring='neg_mean_squared_error')\n",
    "grid_search_initial.fit(mm_X_train, g1y_train)\n",
    "\n",
    "# 초기 그리드 서치 결과 출력\n",
    "print(\"초기 그리드 서치 최적 하이퍼파라미터:\", grid_search_initial.best_params_)\n",
    "\n",
    "# 초기 그리드 서치에서 얻은 최적의 하이퍼파라미터를 기반으로 더 좁은 범위의 하이퍼파라미터 탐색\n",
    "best_params_initial = grid_search_initial.best_params_\n",
    "param_grid_finer = {\n",
    "    'n_estimators': [best_params_initial['n_estimators'] - 50, best_params_initial['n_estimators'], best_params_initial['n_estimators'] + 50],\n",
    "    'max_depth': [best_params_initial['max_depth'] - 5, best_params_initial['max_depth'], best_params_initial['max_depth'] + 5],\n",
    "    'min_samples_split': [best_params_initial['min_samples_split'] - 2, best_params_initial['min_samples_split'], best_params_initial['min_samples_split'] + 2]\n",
    "}\n",
    "grid_search_finer = GridSearchCV(RandomForestRegressor(), param_grid_finer, cv=5, scoring='neg_mean_squared_error')\n",
    "grid_search_finer.fit(mm_X_train, g1y_train)\n",
    "\n",
    "# 두 번째 그리드 서치 결과 출력\n",
    "print(\"두 번째 그리드 서치 최적 하이퍼파라미터:\", grid_search_finer.best_params_)"
   ]
  },
  {
   "cell_type": "raw",
   "id": "5a236376",
   "metadata": {},
   "source": [
    "from sklearn.ensemble import RandomForestRegressor\n",
    "\n",
    "# 최적의 하이퍼파라미터로 랜덤 포레스트 모델 생성\n",
    "brf_model = grid_search_finer.best_estimator_\n",
    "\n",
    "# 모델 학습\n",
    "brf_model.fit(mm_X_train, g1y_train)\n",
    "\n",
    "# 테스트 데이터에 대한 예측 수행\n",
    "predictions = brf_model.predict(mm_X_test)\n",
    "\n",
    "# 평균 제곱 오차 계산\n",
    "mse = mean_squared_error(g1y_test, predictions)\n",
    "print(\"평균 제곱 오차(MSE):\", mse)"
   ]
  },
  {
   "cell_type": "code",
   "execution_count": null,
   "id": "9cb55e3b",
   "metadata": {},
   "outputs": [],
   "source": []
  },
  {
   "cell_type": "code",
   "execution_count": 18,
   "id": "19987929",
   "metadata": {},
   "outputs": [
    {
     "name": "stderr",
     "output_type": "stream",
     "text": [
      "C:\\ProgramData\\anaconda3\\Lib\\site-packages\\IPython\\core\\pylabtools.py:152: UserWarning: Glyph 53945 (\\N{HANGUL SYLLABLE TEUG}) missing from current font.\n",
      "  fig.canvas.print_figure(bytes_io, **kw)\n",
      "C:\\ProgramData\\anaconda3\\Lib\\site-packages\\IPython\\core\\pylabtools.py:152: UserWarning: Glyph 49457 (\\N{HANGUL SYLLABLE SEONG}) missing from current font.\n",
      "  fig.canvas.print_figure(bytes_io, **kw)\n",
      "C:\\ProgramData\\anaconda3\\Lib\\site-packages\\IPython\\core\\pylabtools.py:152: UserWarning: Glyph 47004 (\\N{HANGUL SYLLABLE RAEN}) missing from current font.\n",
      "  fig.canvas.print_figure(bytes_io, **kw)\n",
      "C:\\ProgramData\\anaconda3\\Lib\\site-packages\\IPython\\core\\pylabtools.py:152: UserWarning: Glyph 45924 (\\N{HANGUL SYLLABLE DEOM}) missing from current font.\n",
      "  fig.canvas.print_figure(bytes_io, **kw)\n",
      "C:\\ProgramData\\anaconda3\\Lib\\site-packages\\IPython\\core\\pylabtools.py:152: UserWarning: Glyph 54252 (\\N{HANGUL SYLLABLE PO}) missing from current font.\n",
      "  fig.canvas.print_figure(bytes_io, **kw)\n",
      "C:\\ProgramData\\anaconda3\\Lib\\site-packages\\IPython\\core\\pylabtools.py:152: UserWarning: Glyph 47112 (\\N{HANGUL SYLLABLE RE}) missing from current font.\n",
      "  fig.canvas.print_figure(bytes_io, **kw)\n",
      "C:\\ProgramData\\anaconda3\\Lib\\site-packages\\IPython\\core\\pylabtools.py:152: UserWarning: Glyph 49828 (\\N{HANGUL SYLLABLE SEU}) missing from current font.\n",
      "  fig.canvas.print_figure(bytes_io, **kw)\n",
      "C:\\ProgramData\\anaconda3\\Lib\\site-packages\\IPython\\core\\pylabtools.py:152: UserWarning: Glyph 53944 (\\N{HANGUL SYLLABLE TEU}) missing from current font.\n",
      "  fig.canvas.print_figure(bytes_io, **kw)\n",
      "C:\\ProgramData\\anaconda3\\Lib\\site-packages\\IPython\\core\\pylabtools.py:152: UserWarning: Glyph 51473 (\\N{HANGUL SYLLABLE JUNG}) missing from current font.\n",
      "  fig.canvas.print_figure(bytes_io, **kw)\n",
      "C:\\ProgramData\\anaconda3\\Lib\\site-packages\\IPython\\core\\pylabtools.py:152: UserWarning: Glyph 50836 (\\N{HANGUL SYLLABLE YO}) missing from current font.\n",
      "  fig.canvas.print_figure(bytes_io, **kw)\n",
      "C:\\ProgramData\\anaconda3\\Lib\\site-packages\\IPython\\core\\pylabtools.py:152: UserWarning: Glyph 46020 (\\N{HANGUL SYLLABLE DO}) missing from current font.\n",
      "  fig.canvas.print_figure(bytes_io, **kw)\n"
     ]
    },
    {
     "data": {
      "image/png": "[encoded data removed]",
      "text/plain": [
       "<Figure size 1000x800 with 1 Axes>"
      ]
     },
     "metadata": {},
     "output_type": "display_data"
    }
   ],
   "source": [
    "feature_importance = model_rf.feature_importances_\n",
    "    \n",
    "\n",
    "import matplotlib.pyplot as plt\n",
    "\n",
    "# 중요도를 기준으로 특성을 정렬\n",
    "sorted_idx = feature_importance.argsort()\n",
    "\n",
    "# 중요도가 높은 특성 순으로 이름과 중요도 추출\n",
    "sorted_feature_names = g1X.columns[sorted_idx]\n",
    "sorted_importance = feature_importance[sorted_idx]\n",
    "\n",
    "# 막대 그래프로 특성 중요도 시각화\n",
    "plt.figure(figsize=(10, 8))\n",
    "plt.barh(range(len(sorted_importance)), sorted_importance, align='center')\n",
    "plt.yticks(range(len(sorted_importance)), sorted_feature_names)\n",
    "plt.xlabel('특성 중요도')\n",
    "plt.ylabel('특성')\n",
    "plt.title('랜덤 포레스트 특성 중요도')\n",
    "plt.show()\n"
   ]
  },
  {
   "cell_type": "code",
   "execution_count": null,
   "id": "73849495",
   "metadata": {},
   "outputs": [],
   "source": []
  },
  {
   "cell_type": "code",
   "execution_count": null,
   "id": "8f95a7a9",
   "metadata": {},
   "outputs": [],
   "source": []
  }
 ],
 "metadata": {
  "kernelspec": {
   "display_name": "Python 3 (ipykernel)",
   "language": "python",
   "name": "python3"
  },
  "language_info": {
   "codemirror_mode": {
    "name": "ipython",
    "version": 3
   },
   "file_extension": ".py",
   "mimetype": "text/x-python",
   "name": "python",
   "nbconvert_exporter": "python",
   "pygments_lexer": "ipython3",
   "version": "3.11.5"
  }
 },
 "nbformat": 4,
 "nbformat_minor": 5
}
